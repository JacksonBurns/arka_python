{
 "cells": [
  {
   "cell_type": "markdown",
   "id": "8e8209d0",
   "metadata": {},
   "source": [
    "# `arka_carbonmangels`\n",
    "\n",
    "This notebook implements the [__Arithmetic Residuals in K-groups Analysis (ARKA)__](https://doi.org/10.1039/D4EM00173G) method in Python and then demonstrates the data on the Theraputic Data Commons [CYP2C9 Substrate CarbonMangels](https://tdcommons.ai/benchmark/admet_group/13cyp2c9s/) benchmark (via TDC and [`polaris`](https://polarishub.io/benchmarks/tdcommons/cyp2c9-substrate-carbonmangels)).\n",
    "\n",
    "This method takes a collection of molecular descriptors and projects them into a lower dimension for subsequent regression.\n",
    "The inline comments explain things in greater detail!"
   ]
  },
  {
   "cell_type": "code",
   "execution_count": 1,
   "id": "104b2b58",
   "metadata": {},
   "outputs": [],
   "source": [
    "import numpy as np\n",
    "from mordred import Calculator, descriptors\n",
    "from rdkit.Chem import MolFromSmiles\n",
    "from sklearn.preprocessing import MinMaxScaler\n",
    "from sklearn.ensemble import RandomForestClassifier"
   ]
  },
  {
   "cell_type": "markdown",
   "id": "150ba3d2",
   "metadata": {},
   "source": [
    "## Descriptor Calculator\n",
    "\n",
    "We'll start by defining a basic molecular descriptor calculator function.\n",
    "For this demo we will use [`mordredcommunity`](https://github.com/JacksonBurns/mordred-community), a community-maintained fork of the [Mordred descriptor calculator](https://jcheminf.biomedcentral.com/articles/10.1186/s13321-018-0258-y).\n",
    "\n",
    "This function takes a list of SMILES strings and returns DataFrame of the 1,613 descriptors for each molecule."
   ]
  },
  {
   "cell_type": "code",
   "execution_count": 2,
   "id": "2819821b",
   "metadata": {},
   "outputs": [],
   "source": [
    "def mordred_features(smiles_list):\n",
    "    calc = Calculator(descs=descriptors, ignore_3D=True)\n",
    "    mols = [MolFromSmiles(smiles) for smiles in smiles_list]\n",
    "    features = calc.pandas(mols).fill_missing()\n",
    "    features.replace([np.inf, -np.inf], np.nan, inplace=True)\n",
    "    return features"
   ]
  },
  {
   "cell_type": "markdown",
   "id": "20a4837f",
   "metadata": {},
   "source": [
    "## Benchmark Data\n",
    "\n",
    "Based on which library you have installed, you can get to the training data using the below code - just set `DATASET_SOURCE` appropriately."
   ]
  },
  {
   "cell_type": "code",
   "execution_count": 3,
   "id": "f8fb665f",
   "metadata": {},
   "outputs": [],
   "source": [
    "DATASET_SOURCE = \"polaris\"  # \"pytdc\""
   ]
  },
  {
   "cell_type": "code",
   "execution_count": 4,
   "id": "e9279e4b",
   "metadata": {},
   "outputs": [
    {
     "name": "stderr",
     "output_type": "stream",
     "text": [
      "/root/miniforge3/envs/arka/lib/python3.10/site-packages/tqdm/auto.py:21: TqdmWarning: IProgress not found. Please update jupyter and ipywidgets. See https://ipywidgets.readthedocs.io/en/stable/user_install.html\n",
      "  from .autonotebook import tqdm as notebook_tqdm\n"
     ]
    },
    {
     "data": {
      "text/html": [
       "<pre style=\"white-space:pre;overflow-x:auto;line-height:normal;font-family:Menlo,'DejaVu Sans Mono',consolas,'Courier New',monospace\">/root/miniforge3/envs/arka/lib/python3.10/site-packages/rich/live.py:256: UserWarning: install \"ipywidgets\" for \n",
       "Jupyter support\n",
       "  warnings.warn('install \"ipywidgets\" for Jupyter support')\n",
       "</pre>\n"
      ],
      "text/plain": [
       "/root/miniforge3/envs/arka/lib/python3.10/site-packages/rich/live.py:256: UserWarning: install \"ipywidgets\" for \n",
       "Jupyter support\n",
       "  warnings.warn('install \"ipywidgets\" for Jupyter support')\n"
      ]
     },
     "metadata": {},
     "output_type": "display_data"
    },
    {
     "data": {
      "text/html": [
       "<pre style=\"white-space:pre;overflow-x:auto;line-height:normal;font-family:Menlo,'DejaVu Sans Mono',consolas,'Courier New',monospace\">/root/miniforge3/envs/arka/lib/python3.10/site-packages/rich/live.py:256: UserWarning: install \"ipywidgets\" for \n",
       "Jupyter support\n",
       "  warnings.warn('install \"ipywidgets\" for Jupyter support')\n",
       "</pre>\n"
      ],
      "text/plain": [
       "/root/miniforge3/envs/arka/lib/python3.10/site-packages/rich/live.py:256: UserWarning: install \"ipywidgets\" for \n",
       "Jupyter support\n",
       "  warnings.warn('install \"ipywidgets\" for Jupyter support')\n"
      ]
     },
     "metadata": {},
     "output_type": "display_data"
    },
    {
     "data": {
      "text/html": [
       "<pre style=\"white-space:pre;overflow-x:auto;line-height:normal;font-family:Menlo,'DejaVu Sans Mono',consolas,'Courier New',monospace\"><span style=\"color: #7fbfbf; text-decoration-color: #7fbfbf\">[2025-09-30 10:30:03] </span><span style=\"color: #000080; text-decoration-color: #000080\">INFO    </span> The version of Polaris that was used to create the artifact <span style=\"font-weight: bold\">(</span>dev<span style=\"font-weight: bold\">)</span> is <a href=\"file:///root/miniforge3/envs/arka/lib/python3.10/site-packages/polaris/_artifact.py\" target=\"_blank\"><span style=\"color: #7f7f7f; text-decoration-color: #7f7f7f\">_artifact.py</span></a><span style=\"color: #7f7f7f; text-decoration-color: #7f7f7f\">:</span><a href=\"file:///root/miniforge3/envs/arka/lib/python3.10/site-packages/polaris/_artifact.py#96\" target=\"_blank\"><span style=\"color: #7f7f7f; text-decoration-color: #7f7f7f\">96</span></a>\n",
       "<span style=\"color: #7fbfbf; text-decoration-color: #7fbfbf\">                      </span>         different from the currently installed version of Polaris <span style=\"font-weight: bold\">(</span><span style=\"color: #008080; text-decoration-color: #008080; font-weight: bold\">0.13</span>.<span style=\"color: #008080; text-decoration-color: #008080; font-weight: bold\">0</span><span style=\"font-weight: bold\">)</span>.  <span style=\"color: #7f7f7f; text-decoration-color: #7f7f7f\">               </span>\n",
       "</pre>\n"
      ],
      "text/plain": [
       "\u001b[2;36m[2025-09-30 10:30:03]\u001b[0m\u001b[2;36m \u001b[0m\u001b[34mINFO    \u001b[0m The version of Polaris that was used to create the artifact \u001b[1m(\u001b[0mdev\u001b[1m)\u001b[0m is \u001b]8;id=802862;file:///root/miniforge3/envs/arka/lib/python3.10/site-packages/polaris/_artifact.py\u001b\\\u001b[2m_artifact.py\u001b[0m\u001b]8;;\u001b\\\u001b[2m:\u001b[0m\u001b]8;id=36127;file:///root/miniforge3/envs/arka/lib/python3.10/site-packages/polaris/_artifact.py#96\u001b\\\u001b[2m96\u001b[0m\u001b]8;;\u001b\\\n",
       "\u001b[2;36m                      \u001b[0m         different from the currently installed version of Polaris \u001b[1m(\u001b[0m\u001b[1;36m0.13\u001b[0m.\u001b[1;36m0\u001b[0m\u001b[1m)\u001b[0m.  \u001b[2m               \u001b[0m\n"
      ]
     },
     "metadata": {},
     "output_type": "display_data"
    },
    {
     "data": {
      "text/html": [
       "<pre style=\"white-space:pre;overflow-x:auto;line-height:normal;font-family:Menlo,'DejaVu Sans Mono',consolas,'Courier New',monospace\"><span style=\"color: #7fbfbf; text-decoration-color: #7fbfbf\">                      </span><span style=\"color: #000080; text-decoration-color: #000080\">INFO    </span> To verify the checksum, we need to recompute it. This can be slow    <a href=\"file:///root/miniforge3/envs/arka/lib/python3.10/site-packages/polaris/mixins/_checksum.py\" target=\"_blank\"><span style=\"color: #7f7f7f; text-decoration-color: #7f7f7f\">_checksum.py</span></a><span style=\"color: #7f7f7f; text-decoration-color: #7f7f7f\">:</span><a href=\"file:///root/miniforge3/envs/arka/lib/python3.10/site-packages/polaris/mixins/_checksum.py#67\" target=\"_blank\"><span style=\"color: #7f7f7f; text-decoration-color: #7f7f7f\">67</span></a>\n",
       "<span style=\"color: #7fbfbf; text-decoration-color: #7fbfbf\">                      </span>         for large datasets.                                                  <span style=\"color: #7f7f7f; text-decoration-color: #7f7f7f\">               </span>\n",
       "</pre>\n"
      ],
      "text/plain": [
       "\u001b[2;36m                     \u001b[0m\u001b[2;36m \u001b[0m\u001b[34mINFO    \u001b[0m To verify the checksum, we need to recompute it. This can be slow    \u001b]8;id=524299;file:///root/miniforge3/envs/arka/lib/python3.10/site-packages/polaris/mixins/_checksum.py\u001b\\\u001b[2m_checksum.py\u001b[0m\u001b]8;;\u001b\\\u001b[2m:\u001b[0m\u001b]8;id=642256;file:///root/miniforge3/envs/arka/lib/python3.10/site-packages/polaris/mixins/_checksum.py#67\u001b\\\u001b[2m67\u001b[0m\u001b]8;;\u001b\\\n",
       "\u001b[2;36m                      \u001b[0m         for large datasets.                                                  \u001b[2m               \u001b[0m\n"
      ]
     },
     "metadata": {},
     "output_type": "display_data"
    },
    {
     "data": {
      "text/html": [
       "<pre style=\"white-space:pre;overflow-x:auto;line-height:normal;font-family:Menlo,'DejaVu Sans Mono',consolas,'Courier New',monospace\">/root/miniforge3/envs/arka/lib/python3.10/site-packages/rich/live.py:256: UserWarning: install \"ipywidgets\" for \n",
       "Jupyter support\n",
       "  warnings.warn('install \"ipywidgets\" for Jupyter support')\n",
       "</pre>\n"
      ],
      "text/plain": [
       "/root/miniforge3/envs/arka/lib/python3.10/site-packages/rich/live.py:256: UserWarning: install \"ipywidgets\" for \n",
       "Jupyter support\n",
       "  warnings.warn('install \"ipywidgets\" for Jupyter support')\n"
      ]
     },
     "metadata": {},
     "output_type": "display_data"
    },
    {
     "data": {
      "text/html": [
       "<pre style=\"white-space:pre;overflow-x:auto;line-height:normal;font-family:Menlo,'DejaVu Sans Mono',consolas,'Courier New',monospace\"><span style=\"color: #7fbfbf; text-decoration-color: #7fbfbf\">[10:30:03] </span><span style=\"color: #008000; text-decoration-color: #008000\"> Success: Fetching dataset</span>                                                                 <a href=\"file:///root/miniforge3/envs/arka/lib/python3.10/site-packages/polaris/utils/context.py\" target=\"_blank\"><span style=\"color: #7f7f7f; text-decoration-color: #7f7f7f\">context.py</span></a><span style=\"color: #7f7f7f; text-decoration-color: #7f7f7f\">:</span><a href=\"file:///root/miniforge3/envs/arka/lib/python3.10/site-packages/polaris/utils/context.py#53\" target=\"_blank\"><span style=\"color: #7f7f7f; text-decoration-color: #7f7f7f\">53</span></a>\n",
       "</pre>\n"
      ],
      "text/plain": [
       "\u001b[2;36m[10:30:03]\u001b[0m\u001b[2;36m \u001b[0m\u001b[32m Success: Fetching dataset\u001b[0m                                                                 \u001b]8;id=931422;file:///root/miniforge3/envs/arka/lib/python3.10/site-packages/polaris/utils/context.py\u001b\\\u001b[2mcontext.py\u001b[0m\u001b]8;;\u001b\\\u001b[2m:\u001b[0m\u001b]8;id=583869;file:///root/miniforge3/envs/arka/lib/python3.10/site-packages/polaris/utils/context.py#53\u001b\\\u001b[2m53\u001b[0m\u001b]8;;\u001b\\\n"
      ]
     },
     "metadata": {},
     "output_type": "display_data"
    },
    {
     "data": {
      "text/html": [
       "<pre style=\"white-space:pre;overflow-x:auto;line-height:normal;font-family:Menlo,'DejaVu Sans Mono',consolas,'Courier New',monospace\"><span style=\"color: #7fbfbf; text-decoration-color: #7fbfbf\">                      </span><span style=\"color: #000080; text-decoration-color: #000080\">INFO    </span> The version of Polaris that was used to create the artifact <span style=\"font-weight: bold\">(</span>dev<span style=\"font-weight: bold\">)</span> is <a href=\"file:///root/miniforge3/envs/arka/lib/python3.10/site-packages/polaris/_artifact.py\" target=\"_blank\"><span style=\"color: #7f7f7f; text-decoration-color: #7f7f7f\">_artifact.py</span></a><span style=\"color: #7f7f7f; text-decoration-color: #7f7f7f\">:</span><a href=\"file:///root/miniforge3/envs/arka/lib/python3.10/site-packages/polaris/_artifact.py#96\" target=\"_blank\"><span style=\"color: #7f7f7f; text-decoration-color: #7f7f7f\">96</span></a>\n",
       "<span style=\"color: #7fbfbf; text-decoration-color: #7fbfbf\">                      </span>         different from the currently installed version of Polaris <span style=\"font-weight: bold\">(</span><span style=\"color: #008080; text-decoration-color: #008080; font-weight: bold\">0.13</span>.<span style=\"color: #008080; text-decoration-color: #008080; font-weight: bold\">0</span><span style=\"font-weight: bold\">)</span>.  <span style=\"color: #7f7f7f; text-decoration-color: #7f7f7f\">               </span>\n",
       "</pre>\n"
      ],
      "text/plain": [
       "\u001b[2;36m                     \u001b[0m\u001b[2;36m \u001b[0m\u001b[34mINFO    \u001b[0m The version of Polaris that was used to create the artifact \u001b[1m(\u001b[0mdev\u001b[1m)\u001b[0m is \u001b]8;id=490555;file:///root/miniforge3/envs/arka/lib/python3.10/site-packages/polaris/_artifact.py\u001b\\\u001b[2m_artifact.py\u001b[0m\u001b]8;;\u001b\\\u001b[2m:\u001b[0m\u001b]8;id=926410;file:///root/miniforge3/envs/arka/lib/python3.10/site-packages/polaris/_artifact.py#96\u001b\\\u001b[2m96\u001b[0m\u001b]8;;\u001b\\\n",
       "\u001b[2;36m                      \u001b[0m         different from the currently installed version of Polaris \u001b[1m(\u001b[0m\u001b[1;36m0.13\u001b[0m.\u001b[1;36m0\u001b[0m\u001b[1m)\u001b[0m.  \u001b[2m               \u001b[0m\n"
      ]
     },
     "metadata": {},
     "output_type": "display_data"
    },
    {
     "data": {
      "text/html": [
       "<pre style=\"white-space:pre;overflow-x:auto;line-height:normal;font-family:Menlo,'DejaVu Sans Mono',consolas,'Courier New',monospace\"><span style=\"color: #7fbfbf; text-decoration-color: #7fbfbf\">                      </span><span style=\"color: #808000; text-decoration-color: #808000\">WARNING </span> No checksum to verify against. Specify either the md5sum parameter   <a href=\"file:///root/miniforge3/envs/arka/lib/python3.10/site-packages/polaris/mixins/_checksum.py\" target=\"_blank\"><span style=\"color: #7f7f7f; text-decoration-color: #7f7f7f\">_checksum.py</span></a><span style=\"color: #7f7f7f; text-decoration-color: #7f7f7f\">:</span><a href=\"file:///root/miniforge3/envs/arka/lib/python3.10/site-packages/polaris/mixins/_checksum.py#60\" target=\"_blank\"><span style=\"color: #7f7f7f; text-decoration-color: #7f7f7f\">60</span></a>\n",
       "<span style=\"color: #7fbfbf; text-decoration-color: #7fbfbf\">                      </span>         or store the checksum in the dataset.md5sum attribute.               <span style=\"color: #7f7f7f; text-decoration-color: #7f7f7f\">               </span>\n",
       "</pre>\n"
      ],
      "text/plain": [
       "\u001b[2;36m                     \u001b[0m\u001b[2;36m \u001b[0m\u001b[33mWARNING \u001b[0m No checksum to verify against. Specify either the md5sum parameter   \u001b]8;id=326400;file:///root/miniforge3/envs/arka/lib/python3.10/site-packages/polaris/mixins/_checksum.py\u001b\\\u001b[2m_checksum.py\u001b[0m\u001b]8;;\u001b\\\u001b[2m:\u001b[0m\u001b]8;id=755312;file:///root/miniforge3/envs/arka/lib/python3.10/site-packages/polaris/mixins/_checksum.py#60\u001b\\\u001b[2m60\u001b[0m\u001b]8;;\u001b\\\n",
       "\u001b[2;36m                      \u001b[0m         or store the checksum in the dataset.md5sum attribute.               \u001b[2m               \u001b[0m\n"
      ]
     },
     "metadata": {},
     "output_type": "display_data"
    },
    {
     "data": {
      "text/html": [
       "<pre style=\"white-space:pre;overflow-x:auto;line-height:normal;font-family:Menlo,'DejaVu Sans Mono',consolas,'Courier New',monospace\"><span style=\"color: #7fbfbf; text-decoration-color: #7fbfbf\">           </span><span style=\"color: #008000; text-decoration-color: #008000\"> Success: Fetching benchmark</span>                                                               <a href=\"file:///root/miniforge3/envs/arka/lib/python3.10/site-packages/polaris/utils/context.py\" target=\"_blank\"><span style=\"color: #7f7f7f; text-decoration-color: #7f7f7f\">context.py</span></a><span style=\"color: #7f7f7f; text-decoration-color: #7f7f7f\">:</span><a href=\"file:///root/miniforge3/envs/arka/lib/python3.10/site-packages/polaris/utils/context.py#53\" target=\"_blank\"><span style=\"color: #7f7f7f; text-decoration-color: #7f7f7f\">53</span></a>\n",
       "</pre>\n"
      ],
      "text/plain": [
       "\u001b[2;36m          \u001b[0m\u001b[2;36m \u001b[0m\u001b[32m Success: Fetching benchmark\u001b[0m                                                               \u001b]8;id=145493;file:///root/miniforge3/envs/arka/lib/python3.10/site-packages/polaris/utils/context.py\u001b\\\u001b[2mcontext.py\u001b[0m\u001b]8;;\u001b\\\u001b[2m:\u001b[0m\u001b]8;id=668467;file:///root/miniforge3/envs/arka/lib/python3.10/site-packages/polaris/utils/context.py#53\u001b\\\u001b[2m53\u001b[0m\u001b]8;;\u001b\\\n"
      ]
     },
     "metadata": {},
     "output_type": "display_data"
    },
    {
     "data": {
      "text/html": [
       "<pre style=\"white-space:pre;overflow-x:auto;line-height:normal;font-family:Menlo,'DejaVu Sans Mono',consolas,'Courier New',monospace\"></pre>\n"
      ],
      "text/plain": []
     },
     "metadata": {},
     "output_type": "display_data"
    }
   ],
   "source": [
    "if DATASET_SOURCE == \"polaris\":\n",
    "    import polaris as po\n",
    "    \n",
    "    benchmark = po.load_benchmark(\"tdcommons/cyp2d6-substrate-carbonmangels\")\n",
    "    smiles_col = list(benchmark.input_cols)[0]\n",
    "    target_col = list(benchmark.target_cols)[0]\n",
    "    train, test = benchmark.get_train_test_split()\n",
    "    train_df = train.as_dataframe()\n",
    "    test_df = test.as_dataframe()\n",
    "elif DATASET_SOURCE == \"pytdc\":\n",
    "    from tdc.benchmark_group import admet_group\n",
    "\n",
    "    group = admet_group(path = 'tdc_data/')\n",
    "    benchmark = group.get('cyp2d6-substrate-carbonmangels')\n",
    "    train_df, test_df = benchmark['train_val'], benchmark['test']\n",
    "    smiles_col = \"Drug\"\n",
    "    target_col = \"Y\"\n",
    "else:\n",
    "    raise RuntimeError(\"huh?\")"
   ]
  },
  {
   "cell_type": "markdown",
   "id": "3d693ed8",
   "metadata": {},
   "source": [
    "Now let's call that function on the training data:"
   ]
  },
  {
   "cell_type": "code",
   "execution_count": 5,
   "id": "4d14f70f",
   "metadata": {},
   "outputs": [
    {
     "name": "stderr",
     "output_type": "stream",
     "text": [
      "100%|██████████| 532/532 [00:37<00:00, 14.35it/s]\n",
      "/root/miniforge3/envs/arka/lib/python3.10/site-packages/mordred/_base/pandas_module.py:17: FutureWarning: DataFrame.applymap has been deprecated. Use DataFrame.map instead.\n",
      "  t[t.applymap(is_missing)] = value\n",
      "/tmp/ipykernel_1815/1441371008.py:5: FutureWarning: Downcasting behavior in `replace` is deprecated and will be removed in a future version. To retain the old behavior, explicitly call `result.infer_objects(copy=False)`. To opt-in to the future behavior, set `pd.set_option('future.no_silent_downcasting', True)`\n",
      "  features.replace([np.inf, -np.inf], np.nan, inplace=True)\n"
     ]
    }
   ],
   "source": [
    "train_df['mordred_features'] = mordred_features(train_df[smiles_col].tolist()).values.tolist()"
   ]
  },
  {
   "cell_type": "code",
   "execution_count": 6,
   "id": "a429be90",
   "metadata": {},
   "outputs": [],
   "source": [
    "train_features = np.vstack(train_df['mordred_features'].values)"
   ]
  },
  {
   "cell_type": "markdown",
   "id": "5972d10d",
   "metadata": {},
   "source": [
    "## ARKA Procedure\n",
    "\n",
    "First, we rescale the training data using `MinMaxScaler` to range between 0 and 1."
   ]
  },
  {
   "cell_type": "code",
   "execution_count": 7,
   "id": "18dc6674",
   "metadata": {},
   "outputs": [
    {
     "name": "stderr",
     "output_type": "stream",
     "text": [
      "/root/miniforge3/envs/arka/lib/python3.10/site-packages/sklearn/utils/_array_api.py:686: RuntimeWarning: All-NaN slice encountered\n",
      "  return xp.asarray(numpy.nanmin(X, axis=axis))\n",
      "/root/miniforge3/envs/arka/lib/python3.10/site-packages/sklearn/utils/_array_api.py:706: RuntimeWarning: All-NaN slice encountered\n",
      "  return xp.asarray(numpy.nanmax(X, axis=axis))\n"
     ]
    }
   ],
   "source": [
    "scaler = MinMaxScaler(feature_range=(0, 1))\n",
    "scaler.fit(train_features)\n",
    "X = scaler.transform(train_features)"
   ]
  },
  {
   "cell_type": "markdown",
   "id": "07234745",
   "metadata": {},
   "source": [
    "We use the labels of the training data to separate these features into two groups (and pull out the targets, for later):"
   ]
  },
  {
   "cell_type": "code",
   "execution_count": 8,
   "id": "6edaba5e",
   "metadata": {},
   "outputs": [],
   "source": [
    "labels = train_df[target_col].values\n",
    "y = train_df[target_col].values"
   ]
  },
  {
   "cell_type": "code",
   "execution_count": 9,
   "id": "924b90ea",
   "metadata": {},
   "outputs": [],
   "source": [
    "group_0 = X[labels == 0]\n",
    "group_1 = X[labels == 1]"
   ]
  },
  {
   "cell_type": "markdown",
   "id": "714192cf",
   "metadata": {},
   "source": [
    "Now we calculate the per-feature mean within each group, then calculate the difference between the two groups."
   ]
  },
  {
   "cell_type": "code",
   "execution_count": 10,
   "id": "655da7a4",
   "metadata": {},
   "outputs": [],
   "source": [
    "group_0_means = group_0.mean(axis=0)\n",
    "group_1_means = group_1.mean(axis=0)\n",
    "mean_diff = group_0_means - group_1_means\n",
    "mean_diff_abs = np.abs(mean_diff)"
   ]
  },
  {
   "cell_type": "markdown",
   "id": "5257a335",
   "metadata": {},
   "source": [
    "From there, we separate the features into two \"classes\" based on their sign:"
   ]
  },
  {
   "cell_type": "code",
   "execution_count": 11,
   "id": "4ac97f87",
   "metadata": {},
   "outputs": [],
   "source": [
    "class_0_features = mean_diff > 0\n",
    "class_1_features = mean_diff < 0"
   ]
  },
  {
   "cell_type": "markdown",
   "id": "e3bc07f0",
   "metadata": {},
   "source": [
    "The paper is slightly ambiguous here - we haven't used the absolute mean differences, but it makes sense to use them in the denominator here when calculating the weights.\n",
    "That's what I'll do here, using indexing into the mean arrays:"
   ]
  },
  {
   "cell_type": "code",
   "execution_count": 12,
   "id": "d3db3878",
   "metadata": {},
   "outputs": [],
   "source": [
    "class_0_weights = mean_diff[class_0_features] / mean_diff_abs[class_0_features].sum()\n",
    "class_1_weights = mean_diff[class_1_features] / mean_diff_abs[class_1_features].sum()"
   ]
  },
  {
   "cell_type": "markdown",
   "id": "d311f2cc",
   "metadata": {},
   "source": [
    "This block isn't in the original paper, but is alluded to having been done in previous work.\n",
    "In short, we need to downselect the features we have available.\n",
    "To do so, we'll just select those in the top 10% of weight:"
   ]
  },
  {
   "cell_type": "code",
   "execution_count": 13,
   "id": "7c7e82a6",
   "metadata": {},
   "outputs": [],
   "source": [
    "top_0_threshold = np.percentile(np.abs(class_0_weights), 90)\n",
    "top_1_threshold = np.percentile(np.abs(class_1_weights), 90)"
   ]
  },
  {
   "cell_type": "markdown",
   "id": "341548a0",
   "metadata": {},
   "source": [
    "Now again, with some indexing, we touch up the weights to reflect this:"
   ]
  },
  {
   "cell_type": "code",
   "execution_count": 14,
   "id": "784807dd",
   "metadata": {},
   "outputs": [],
   "source": [
    "# this is easy to write and fast but not space efficient\n",
    "class_0_weights = np.where(np.abs(class_0_weights) >= top_0_threshold, class_0_weights, 0)\n",
    "class_1_weights = np.where(np.abs(class_1_weights) >= top_1_threshold, class_1_weights, 0)\n",
    "# normalize weights again\n",
    "class_0_weights /= np.abs(class_0_weights).sum()\n",
    "class_1_weights /= np.abs(class_1_weights).sum()"
   ]
  },
  {
   "cell_type": "markdown",
   "id": "a8f181b3",
   "metadata": {},
   "source": [
    "Finally, we calculate the actual ARKA features!"
   ]
  },
  {
   "cell_type": "code",
   "execution_count": 15,
   "id": "c8fcad13",
   "metadata": {},
   "outputs": [],
   "source": [
    "arka_0 = (X[:, class_0_features] * class_0_weights).sum(axis=1)\n",
    "arka_1 = (X[:, class_1_features] * class_1_weights).sum(axis=1)"
   ]
  },
  {
   "cell_type": "markdown",
   "id": "5d83ca3b",
   "metadata": {},
   "source": [
    "## Fitting\n",
    "\n",
    "Now we simply fit whatever regression we want on these two features against our target vector `y`.\n",
    "In this demo I'm using Random Forest, because it's robust (read: foolproof).\n",
    "\n",
    "For TDC we need to provide 5 different sets of predictions to show the variability in the method.\n",
    "This isn't required for Polaris, but we can use the models as an ensemble instead."
   ]
  },
  {
   "cell_type": "code",
   "execution_count": 16,
   "id": "382dd3fb",
   "metadata": {},
   "outputs": [],
   "source": [
    "clfs = [RandomForestClassifier(random_state=42+i) for i in range(5)]\n",
    "for clf in clfs:\n",
    "    clf.fit(np.column_stack((arka_0, arka_1)), y)"
   ]
  },
  {
   "cell_type": "markdown",
   "id": "2d4d3ebd",
   "metadata": {},
   "source": [
    "Just as a sanity check, we'll make sure we have good accuracy on the training data:"
   ]
  },
  {
   "cell_type": "code",
   "execution_count": 17,
   "id": "cf83be44",
   "metadata": {},
   "outputs": [
    {
     "data": {
      "text/plain": [
       "1.0"
      ]
     },
     "execution_count": 17,
     "metadata": {},
     "output_type": "execute_result"
    }
   ],
   "source": [
    "clfs[0].score(np.column_stack((arka_0, arka_1)), y)"
   ]
  },
  {
   "cell_type": "markdown",
   "id": "ec16c348",
   "metadata": {},
   "source": [
    "## Inference\n",
    "\n",
    "To make predictions on the held out test data, we will go through the same procedure as above while re-using the weights we already calculated."
   ]
  },
  {
   "cell_type": "code",
   "execution_count": 18,
   "id": "6f950579",
   "metadata": {},
   "outputs": [
    {
     "name": "stderr",
     "output_type": "stream",
     "text": [
      "100%|██████████| 135/135 [00:11<00:00, 11.42it/s]\n",
      "/root/miniforge3/envs/arka/lib/python3.10/site-packages/mordred/_base/pandas_module.py:17: FutureWarning: DataFrame.applymap has been deprecated. Use DataFrame.map instead.\n",
      "  t[t.applymap(is_missing)] = value\n",
      "/tmp/ipykernel_1815/1441371008.py:5: FutureWarning: Downcasting behavior in `replace` is deprecated and will be removed in a future version. To retain the old behavior, explicitly call `result.infer_objects(copy=False)`. To opt-in to the future behavior, set `pd.set_option('future.no_silent_downcasting', True)`\n",
      "  features.replace([np.inf, -np.inf], np.nan, inplace=True)\n"
     ]
    }
   ],
   "source": [
    "test_df['mordred_features'] = mordred_features(test_df[smiles_col].tolist()).values.tolist()\n",
    "test_features = np.vstack(test_df['mordred_features'].values)\n",
    "X_test = scaler.transform(test_features)\n",
    "X_test_arka_0 = (X_test[:, class_0_features] * class_0_weights).sum(axis=1)\n",
    "X_test_arka_1 = (X_test[:, class_1_features] * class_1_weights).sum(axis=1)"
   ]
  },
  {
   "cell_type": "code",
   "execution_count": 19,
   "id": "0863c39c",
   "metadata": {},
   "outputs": [],
   "source": [
    "predictions = [clf.predict(np.column_stack((X_test_arka_0, X_test_arka_1))) for clf in clfs]\n",
    "probabilities = [clf.predict_proba(np.column_stack((X_test_arka_0, X_test_arka_1)))[:, 1].flatten() for clf in clfs]"
   ]
  },
  {
   "cell_type": "markdown",
   "id": "b3a77f7a",
   "metadata": {},
   "source": [
    "## Results\n",
    "\n",
    "Based on the backend we're using to get to the data, we can now check the results:"
   ]
  },
  {
   "cell_type": "code",
   "execution_count": 20,
   "id": "cdec0e5b",
   "metadata": {},
   "outputs": [],
   "source": [
    "if DATASET_SOURCE == \"polaris\":\n",
    "    probabilities = np.mean(probabilities, axis=0)\n",
    "    predictions = (probabilities > 0.5).astype(int)\n",
    "    results = benchmark.evaluate(predictions, probabilities).results\n",
    "elif DATASET_SOURCE == \"pytdc\":\n",
    "    results = group.evaluate_many([{benchmark['name']: p} for p in predictions])"
   ]
  },
  {
   "cell_type": "code",
   "execution_count": 30,
   "id": "64fdc3e0",
   "metadata": {},
   "outputs": [
    {
     "data": {
      "text/html": [
       "<table border=\"1\"><tr><th>benchmark_artifact_id</th><td>tdcommons/cyp2d6-substrate-carbonmangels</td></tr><tr><th>benchmark_name</th><td>None</td></tr><tr><th>benchmark_owner</th><td>None</td></tr><tr><th>results</th><td><table border=\"1\"><thead><tr><th>test_set</th><th>target_label</th><th>scores</th></tr></thead><tbody><tr><td>test</td><td>Y</td><td><table border=\"1\"><tr><th>pr_auc</th><td>0.5582998194840731</td></tr></table></td></tr></tbody></table></td></tr><tr><th>name</th><td>ARKA-Mordred</td></tr><tr><th>description</th><td>ARKA method using Mordred(community) molecular descriptors</td></tr><tr><th>tags</th><td><ul><li>mordred</li><li>mordredcommunity</li><li>random forest</li><li>arka</li></ul></td></tr><tr><th>user_attributes</th><td></td></tr><tr><th>owner</th><td>None</td></tr><tr><th>polaris_version</th><td>0.13.0</td></tr><tr><th>slug</th><td>None</td></tr><tr><th>github_url</th><td>https://github.com/JacksonBurns/arka_python/blob/fcbdbf5981280303cc6f98bf62f829289bea8bca/arka_carbonmangels.ipynb</td></tr><tr><th>paper_url</th><td>None</td></tr><tr><th>contributors</th><td></td></tr><tr><th>artifact_id</th><td>None</td></tr><tr><th>urn</th><td>None</td></tr><tr><th>version</th><td>1</td></tr></table>"
      ],
      "text/plain": [
       "{\n",
       "  \"benchmark_artifact_id\": \"tdcommons/cyp2d6-substrate-carbonmangels\",\n",
       "  \"benchmark_name\": null,\n",
       "  \"benchmark_owner\": null,\n",
       "  \"results\": [\n",
       "    {\n",
       "      \"test_set\": \"test\",\n",
       "      \"target_label\": \"Y\",\n",
       "      \"scores\": {\n",
       "        \"pr_auc\": 0.5582998194840731\n",
       "      }\n",
       "    }\n",
       "  ],\n",
       "  \"name\": \"ARKA-Mordred\",\n",
       "  \"description\": \"ARKA method using Mordred(community) molecular descriptors\",\n",
       "  \"tags\": [\n",
       "    \"mordred\",\n",
       "    \"mordredcommunity\",\n",
       "    \"random forest\",\n",
       "    \"arka\"\n",
       "  ],\n",
       "  \"user_attributes\": {},\n",
       "  \"owner\": null,\n",
       "  \"polaris_version\": \"0.13.0\",\n",
       "  \"slug\": null,\n",
       "  \"github_url\": \"https://github.com/JacksonBurns/arka_python/blob/fcbdbf5981280303cc6f98bf62f829289bea8bca/arka_carbonmangels.ipynb\",\n",
       "  \"paper_url\": null,\n",
       "  \"contributors\": [],\n",
       "  \"artifact_id\": null,\n",
       "  \"urn\": null,\n",
       "  \"version\": 1\n",
       "}"
      ]
     },
     "execution_count": 30,
     "metadata": {},
     "output_type": "execute_result"
    }
   ],
   "source": [
    "to_upload = benchmark.evaluate(predictions, probabilities)\n",
    "to_upload.name = \"ARKA-Mordred\"\n",
    "to_upload.github_url = \"https://github.com/JacksonBurns/arka_python/blob/fcbdbf5981280303cc6f98bf62f829289bea8bca/arka_carbonmangels.ipynb\"\n",
    "to_upload.description = \"ARKA method using Mordred(community) molecular descriptors\"\n",
    "to_upload.tags = [\"mordred\", \"mordredcommunity\", \"random forest\", \"arka\"]\n",
    "to_upload"
   ]
  },
  {
   "cell_type": "code",
   "execution_count": 34,
   "id": "937b44b9",
   "metadata": {},
   "outputs": [
    {
     "data": {
      "text/html": [
       "<pre style=\"white-space:pre;overflow-x:auto;line-height:normal;font-family:Menlo,'DejaVu Sans Mono',consolas,'Courier New',monospace\">/root/miniforge3/envs/arka/lib/python3.10/site-packages/rich/live.py:256: UserWarning: install \"ipywidgets\" for \n",
       "Jupyter support\n",
       "  warnings.warn('install \"ipywidgets\" for Jupyter support')\n",
       "</pre>\n"
      ],
      "text/plain": [
       "/root/miniforge3/envs/arka/lib/python3.10/site-packages/rich/live.py:256: UserWarning: install \"ipywidgets\" for \n",
       "Jupyter support\n",
       "  warnings.warn('install \"ipywidgets\" for Jupyter support')\n"
      ]
     },
     "metadata": {},
     "output_type": "display_data"
    },
    {
     "data": {
      "text/html": [
       "<pre style=\"white-space:pre;overflow-x:auto;line-height:normal;font-family:Menlo,'DejaVu Sans Mono',consolas,'Courier New',monospace\"><span style=\"color: #7fbfbf; text-decoration-color: #7fbfbf\">[10:43:54] </span><span style=\"color: #008000; text-decoration-color: #008000\">Your result has been successfully uploaded to the Hub. View it here: </span>                      <a href=\"file:///root/miniforge3/envs/arka/lib/python3.10/site-packages/polaris/hub/client.py\" target=\"_blank\"><span style=\"color: #7f7f7f; text-decoration-color: #7f7f7f\">client.py</span></a><span style=\"color: #7f7f7f; text-decoration-color: #7f7f7f\">:</span><a href=\"file:///root/miniforge3/envs/arka/lib/python3.10/site-packages/polaris/hub/client.py#527\" target=\"_blank\"><span style=\"color: #7f7f7f; text-decoration-color: #7f7f7f\">527</span></a>\n",
       "<span style=\"color: #7fbfbf; text-decoration-color: #7fbfbf\">           </span><span style=\"color: #008000; text-decoration-color: #008000; text-decoration: underline\">https://polarishub.io/benchmarks/tdcommons/cyp2d6-substrate-carbonmangels/iSxqFDiodm99JkVN</span> <span style=\"color: #7f7f7f; text-decoration-color: #7f7f7f\">             </span>\n",
       "<span style=\"color: #7fbfbf; text-decoration-color: #7fbfbf\">           </span><span style=\"color: #008000; text-decoration-color: #008000; text-decoration: underline\">yzUbL</span>                                                                                      <span style=\"color: #7f7f7f; text-decoration-color: #7f7f7f\">             </span>\n",
       "</pre>\n"
      ],
      "text/plain": [
       "\u001b[2;36m[10:43:54]\u001b[0m\u001b[2;36m \u001b[0m\u001b[32mYour result has been successfully uploaded to the Hub. View it here: \u001b[0m                      \u001b]8;id=835320;file:///root/miniforge3/envs/arka/lib/python3.10/site-packages/polaris/hub/client.py\u001b\\\u001b[2mclient.py\u001b[0m\u001b]8;;\u001b\\\u001b[2m:\u001b[0m\u001b]8;id=58958;file:///root/miniforge3/envs/arka/lib/python3.10/site-packages/polaris/hub/client.py#527\u001b\\\u001b[2m527\u001b[0m\u001b]8;;\u001b\\\n",
       "\u001b[2;36m           \u001b[0m\u001b[4;32mhttps://polarishub.io/benchmarks/tdcommons/cyp2d6-substrate-carbonmangels/iSxqFDiodm99JkVN\u001b[0m \u001b[2m             \u001b[0m\n",
       "\u001b[2;36m           \u001b[0m\u001b[4;32myzUbL\u001b[0m                                                                                      \u001b[2m             \u001b[0m\n"
      ]
     },
     "metadata": {},
     "output_type": "display_data"
    },
    {
     "data": {
      "text/html": [
       "<pre style=\"white-space:pre;overflow-x:auto;line-height:normal;font-family:Menlo,'DejaVu Sans Mono',consolas,'Courier New',monospace\"><span style=\"color: #7fbfbf; text-decoration-color: #7fbfbf\">           </span><span style=\"color: #008000; text-decoration-color: #008000\"> Success: Uploading results</span>                                                                <a href=\"file:///root/miniforge3/envs/arka/lib/python3.10/site-packages/polaris/utils/context.py\" target=\"_blank\"><span style=\"color: #7f7f7f; text-decoration-color: #7f7f7f\">context.py</span></a><span style=\"color: #7f7f7f; text-decoration-color: #7f7f7f\">:</span><a href=\"file:///root/miniforge3/envs/arka/lib/python3.10/site-packages/polaris/utils/context.py#53\" target=\"_blank\"><span style=\"color: #7f7f7f; text-decoration-color: #7f7f7f\">53</span></a>\n",
       "</pre>\n"
      ],
      "text/plain": [
       "\u001b[2;36m          \u001b[0m\u001b[2;36m \u001b[0m\u001b[32m Success: Uploading results\u001b[0m                                                                \u001b]8;id=171940;file:///root/miniforge3/envs/arka/lib/python3.10/site-packages/polaris/utils/context.py\u001b\\\u001b[2mcontext.py\u001b[0m\u001b]8;;\u001b\\\u001b[2m:\u001b[0m\u001b]8;id=758096;file:///root/miniforge3/envs/arka/lib/python3.10/site-packages/polaris/utils/context.py#53\u001b\\\u001b[2m53\u001b[0m\u001b]8;;\u001b\\\n"
      ]
     },
     "metadata": {},
     "output_type": "display_data"
    },
    {
     "data": {
      "text/html": [
       "<pre style=\"white-space:pre;overflow-x:auto;line-height:normal;font-family:Menlo,'DejaVu Sans Mono',consolas,'Courier New',monospace\"></pre>\n"
      ],
      "text/plain": []
     },
     "metadata": {},
     "output_type": "display_data"
    }
   ],
   "source": [
    "to_upload.upload_to_hub(owner=\"jacksonburns\")"
   ]
  }
 ],
 "metadata": {
  "kernelspec": {
   "display_name": "arka",
   "language": "python",
   "name": "python3"
  },
  "language_info": {
   "codemirror_mode": {
    "name": "ipython",
    "version": 3
   },
   "file_extension": ".py",
   "mimetype": "text/x-python",
   "name": "python",
   "nbconvert_exporter": "python",
   "pygments_lexer": "ipython3",
   "version": "3.10.18"
  }
 },
 "nbformat": 4,
 "nbformat_minor": 5
}
